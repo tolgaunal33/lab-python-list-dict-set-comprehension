{
  "cells": [
    {
      "cell_type": "markdown",
      "id": "25d7736c-ba17-4aff-b6bb-66eba20fbf4e",
      "metadata": {
        "id": "25d7736c-ba17-4aff-b6bb-66eba20fbf4e"
      },
      "source": [
        "# Lab | List, Dict and Set Comprehension"
      ]
    },
    {
      "cell_type": "markdown",
      "id": "7dd3cbde-675a-4b81-92c3-f728846dbe06",
      "metadata": {
        "id": "7dd3cbde-675a-4b81-92c3-f728846dbe06"
      },
      "source": [
        "## Exercise: Managing Customer Orders Optimized with Comprehension"
      ]
    },
    {
      "cell_type": "markdown",
      "id": "5d500160-2fb7-4777-b5e4-09d45ebaf328",
      "metadata": {
        "id": "5d500160-2fb7-4777-b5e4-09d45ebaf328"
      },
      "source": [
        "In the previous exercise, you developed a program to manage customer orders and inventory. Now, let's take it a step further and incorporate comprehension into your code.\n",
        "\n",
        "Follow the steps below to complete the exercise:\n",
        "\n",
        "1. Review your code from the previous exercise and identify areas where you can apply comprehension to simplify and streamline your code.\n",
        "\n",
        "    - *Hint: Apply it to initialize inventory, updating the inventory and printing the updated inventory.*\n",
        "    \n",
        "    - For example, in initializing the inventory, we could have:\n",
        "    \n",
        "        ```python\n",
        "        def initialize_inventory(products):\n",
        "            inventory = {product: int(input(f\"Enter the quantity of {product}s available: \")) for product in products}\n",
        "            return inventory\n",
        "\n",
        "        ```\n",
        "<br>\n",
        "    \n",
        "    \n",
        "2. Modify the function get_customer_orders so it prompts the user to enter the number of customer orders and gathers the product names using a loop and user input. Use comprehension.\n",
        "\n",
        "3. Add a new function to calculate the total price of the customer order. For each product in customer_orders, prompt the user to enter the price of that product. Use comprehension to calculate the total price. Note: assume that the user can only have 1 unit of each product.\n",
        "\n",
        "4. Modify the update_inventory function to remove the product from the inventory if its quantity becomes zero after fulfilling the customer orders. Use comprehension to filter out the products with a quantity of zero from the inventory.\n",
        "\n",
        "5. Print the total price of the customer order.\n",
        "\n",
        "Your code should produce output similar to the following:\n",
        "\n",
        "```python\n",
        "Enter the quantity of t-shirts available:  5\n",
        "Enter the quantity of mugs available:  4\n",
        "Enter the quantity of hats available:  3\n",
        "Enter the quantity of books available:  2\n",
        "Enter the quantity of keychains available:  1\n",
        "Enter the number of customer orders:  2\n",
        "Enter the name of a product that a customer wants to order:  hat\n",
        "Enter the name of a product that a customer wants to order:  keychain\n",
        "\n",
        "Order Statistics:\n",
        "Total Products Ordered: 2\n",
        "Percentage of Unique Products Ordered: 40.0\n",
        "\n",
        "Updated Inventory:\n",
        "t-shirt: 5\n",
        "mug: 4\n",
        "hat: 2\n",
        "book: 2\n",
        "Enter the price of keychain:  5\n",
        "Enter the price of hat:  10\n",
        "Total Price: 15.0\n",
        "\n",
        "```\n"
      ]
    },
    {
      "cell_type": "code",
      "source": [
        "# Inventory Initialization with Comprehension\n",
        "\n",
        "#1\n",
        "products = [\"t-shirt\", \"mug\", \"hat\", \"book\", \"keychain\"]\n",
        "\n",
        "def initialize_inventory(products):\n",
        "    inventory = {product: int(input(f\"Enter the quantity of {product}s available: \")) for product in products}\n",
        "    return inventory\n",
        "\n",
        "inventory = initialize_inventory(products)\n",
        "\n"
      ],
      "metadata": {
        "colab": {
          "base_uri": "https://localhost:8080/"
        },
        "id": "hL7UkQ-qeZrt",
        "outputId": "14cefa90-758e-4663-b6ad-af5725038c84"
      },
      "id": "hL7UkQ-qeZrt",
      "execution_count": 28,
      "outputs": [
        {
          "name": "stdout",
          "output_type": "stream",
          "text": [
            "Enter the quantity of t-shirts available: 5\n",
            "Enter the quantity of mugs available: 4\n",
            "Enter the quantity of hats available: 3\n",
            "Enter the quantity of books available: 2\n",
            "Enter the quantity of keychains available: 1\n"
          ]
        }
      ]
    },
    {
      "cell_type": "code",
      "source": [
        "#2\n",
        "def get_customer_orders():\n",
        "    num_orders = int(input(\"Enter the number of your orders: \"))\n",
        "    customer_orders = [input(f\"Enter the name of a product that you want to order {products}: \") for _ in range(num_orders)]\n",
        "    print(\"Customer orders: \", customer_orders)\n",
        "    return customer_orders\n",
        "customer_orders = get_customer_orders()"
      ],
      "metadata": {
        "colab": {
          "base_uri": "https://localhost:8080/"
        },
        "id": "BAO3jrBbgf0w",
        "outputId": "3546e06a-b83e-4d95-c320-145b84166098"
      },
      "id": "BAO3jrBbgf0w",
      "execution_count": 35,
      "outputs": [
        {
          "output_type": "stream",
          "name": "stdout",
          "text": [
            "Enter the number of your orders: 2\n",
            "Enter the name of a product that you want to order ['t-shirt', 'mug', 'hat', 'book', 'keychain']: hat\n",
            "Enter the name of a product that you want to order ['t-shirt', 'mug', 'hat', 'book', 'keychain']: keychain\n",
            "Customer orders:  ['hat', 'keychain']\n"
          ]
        }
      ]
    },
    {
      "cell_type": "code",
      "source": [
        "# 3\n",
        "\n",
        "def calculate_total_price(customer_orders):\n",
        "    total_price = sum(float(input(f\"Enter the price of {product}: \")) for product in customer_orders)\n",
        "    return total_price\n",
        "\n",
        "total_price = calculate_total_price(customer_orders)\n",
        "\n",
        "\n"
      ],
      "metadata": {
        "colab": {
          "base_uri": "https://localhost:8080/"
        },
        "id": "MFTw6AlvjLOy",
        "outputId": "1909a41f-dba1-4076-98c7-90aa46bd2c26"
      },
      "id": "MFTw6AlvjLOy",
      "execution_count": 42,
      "outputs": [
        {
          "name": "stdout",
          "output_type": "stream",
          "text": [
            "Enter the price of hat: 5\n",
            "Enter the price of keychain: 10\n"
          ]
        }
      ]
    },
    {
      "cell_type": "code",
      "source": [
        "#4\n",
        "def update_inventory(customer_orders, inventory):\n",
        "    # Comprehension\n",
        "    updated_inventory = {product: inventory[product] - 1 if product in customer_orders else inventory[product]\n",
        "                         for product in inventory\n",
        "                         if inventory[product] - (1 if product in customer_orders else 0) > 0}\n",
        "\n",
        "    # out of stock notification\n",
        "    for product in customer_orders:\n",
        "        if product not in inventory:\n",
        "            print(f\"Sorry, {product} is not available in the inventory.\")\n",
        "\n",
        "    return updated_inventory\n",
        "\n",
        "# test\n",
        "updated_inventory = update_inventory(customer_orders, inventory)\n",
        "print(\"Updated Inventory:\", updated_inventory)"
      ],
      "metadata": {
        "colab": {
          "base_uri": "https://localhost:8080/"
        },
        "id": "jNgZ5WIhnxbk",
        "outputId": "bb351584-0fff-4992-8974-46bac17f9cae"
      },
      "id": "jNgZ5WIhnxbk",
      "execution_count": 39,
      "outputs": [
        {
          "output_type": "stream",
          "name": "stdout",
          "text": [
            "Updated Inventory: {'t-shirt': 5, 'mug': 4, 'hat': 2, 'book': 2}\n"
          ]
        }
      ]
    },
    {
      "cell_type": "code",
      "source": [
        "#5\n",
        "print(f\"Total price: {total_price}\")"
      ],
      "metadata": {
        "colab": {
          "base_uri": "https://localhost:8080/"
        },
        "id": "eOXVFx0isKVW",
        "outputId": "04e5022e-a3c7-454e-e57b-7bf9c7594601"
      },
      "id": "eOXVFx0isKVW",
      "execution_count": 41,
      "outputs": [
        {
          "output_type": "stream",
          "name": "stdout",
          "text": [
            "Total price: 15.0\n"
          ]
        }
      ]
    }
  ],
  "metadata": {
    "kernelspec": {
      "display_name": "Python 3 (ipykernel)",
      "language": "python",
      "name": "python3"
    },
    "language_info": {
      "codemirror_mode": {
        "name": "ipython",
        "version": 3
      },
      "file_extension": ".py",
      "mimetype": "text/x-python",
      "name": "python",
      "nbconvert_exporter": "python",
      "pygments_lexer": "ipython3",
      "version": "3.12.4"
    },
    "colab": {
      "provenance": []
    }
  },
  "nbformat": 4,
  "nbformat_minor": 5
}